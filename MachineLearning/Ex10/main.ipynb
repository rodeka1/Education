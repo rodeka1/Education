{
 "cells": [
  {
   "cell_type": "code",
   "execution_count": null,
   "metadata": {},
   "outputs": [],
   "source": [
    "import pandas as pd\n",
    "import matplotlib.pyplot as plt\n",
    "import seaborn as sns\n",
    "\n",
    "database = pd.read_csv('electricity_train.csv')\n",
    "database_test = pd.read_csv('electricity_reserved.csv')"
   ]
  },
  {
   "cell_type": "code",
   "execution_count": null,
   "metadata": {},
   "outputs": [],
   "source": [
    "missing_values = database.isnull().sum()\n",
    "print(missing_values)\n",
    "\n",
    "class_distribution = database['class'].value_counts(normalize=True)\n",
    "print(class_distribution)"
   ]
  },
  {
   "cell_type": "code",
   "execution_count": null,
   "metadata": {},
   "outputs": [],
   "source": [
    "corr_matrix = database.corr()\n",
    "plt.figure(figsize=(12, 8))\n",
    "sns.heatmap(corr_matrix, annot=True, cmap='coolwarm')\n",
    "plt.show()"
   ]
  },
  {
   "cell_type": "code",
   "execution_count": null,
   "metadata": {},
   "outputs": [],
   "source": [
    "database.hist(bins=30, figsize=(15, 10))\n",
    "plt.show()"
   ]
  },
  {
   "cell_type": "code",
   "execution_count": null,
   "metadata": {},
   "outputs": [],
   "source": [
    "from sklearn.model_selection import train_test_split\n",
    "from sklearn.ensemble import RandomForestClassifier\n",
    "from sklearn.metrics import classification_report\n",
    "\n",
    "X = database.drop('class', axis=1)\n",
    "y = database['class']\n",
    "\n",
    "X_train, X_test, y_train, y_test = train_test_split(X, y, test_size=0.2, random_state=11)\n"
   ]
  },
  {
   "cell_type": "code",
   "execution_count": null,
   "metadata": {},
   "outputs": [],
   "source": [
    "model = RandomForestClassifier(random_state=11)\n",
    "model.fit(X_train, y_train)\n",
    "\n",
    "y_pred = model.predict(X_train)\n",
    "train_report = classification_report(y_train, y_pred, digits=3)\n",
    "print(train_report)\n",
    "\n",
    "accuracy = classification_report(y_train, y_pred, output_dict=True)['accuracy']\n",
    "print(accuracy)"
   ]
  },
  {
   "cell_type": "code",
   "execution_count": null,
   "metadata": {},
   "outputs": [],
   "source": [
    "from sklearn.model_selection import GridSearchCV\n",
    "\n",
    "params_grid = {'n_estimators': [100,300,500],\n",
    "  'max_leaf_nodes': list(range(6,10)),\n",
    "  'min_samples_leaf': [1,2,3]}\n",
    "\n",
    "grid_search = GridSearchCV(\n",
    "    RandomForestClassifier(\n",
    "        bootstrap=False,\n",
    "        class_weight='balanced',\n",
    "        n_jobs=-1,\n",
    "        max_features='sqrt',\n",
    "        random_state=11\n",
    "    ),\n",
    "    param_grid=params_grid,\n",
    "    verbose=1,\n",
    "    cv=3\n",
    ")\n",
    "grid_search.fit(X_train, y_train)\n",
    "\n",
    "best_params = grid_search.best_params_\n",
    "print(best_params)"
   ]
  },
  {
   "cell_type": "code",
   "execution_count": null,
   "metadata": {},
   "outputs": [],
   "source": [
    "print(best_params['max_leaf_nodes'])\n",
    "print(best_params['min_samples_leaf'])\n",
    "print(best_params['n_estimators'])"
   ]
  },
  {
   "cell_type": "code",
   "execution_count": null,
   "metadata": {},
   "outputs": [],
   "source": [
    "best_model = grid_search.best_estimator_\n",
    "\n",
    "y_pred_best = best_model.predict(X_train)\n",
    "\n",
    "train_report_best = classification_report(y_train, y_pred_best, digits=3)\n",
    "print(train_report_best)\n",
    "\n",
    "accuracy_best = classification_report(y_train, y_pred_best, output_dict=True)['accuracy']\n",
    "\n",
    "\n",
    "y_pred_best = best_model.predict(X_test)\n",
    "\n",
    "train_report_best = classification_report(y_test, y_pred_best, digits=3)\n",
    "print(train_report_best)\n",
    "\n",
    "accuracy_best = classification_report(y_test, y_pred_best, output_dict=True)['accuracy']"
   ]
  },
  {
   "cell_type": "code",
   "execution_count": null,
   "metadata": {},
   "outputs": [],
   "source": [
    "importances = best_model.feature_importances_\n",
    "feature_names = X.columns\n",
    "\n",
    "most_important_feature = feature_names[importances.argmax()]\n",
    "print(most_important_feature)"
   ]
  },
  {
   "cell_type": "code",
   "execution_count": null,
   "metadata": {},
   "outputs": [],
   "source": [
    "from sklearn.ensemble import VotingClassifier\n",
    "from sklearn.linear_model import LogisticRegression\n",
    "from sklearn.svm import SVC\n",
    "from sklearn.linear_model import SGDClassifier\n",
    "\n",
    "\n",
    "log_clf = LogisticRegression(solver='liblinear', random_state=11)\n",
    "svc_clf = SVC(random_state=11)\n",
    "sgd_clf = SGDClassifier(random_state=11)\n",
    "\n",
    "voting_clf = VotingClassifier(\n",
    "    estimators=[\n",
    "        ('lr', log_clf),\n",
    "        ('svc', svc_clf),\n",
    "        ('sgd', sgd_clf)\n",
    "    ],\n",
    "    voting='hard'\n",
    ")\n",
    "\n",
    "voting_clf.fit(X_train, y_train)\n",
    "y_pred = voting_clf.predict(X_test)\n",
    "test_report = classification_report(y_test, y_pred, digits=3)\n",
    "print(test_report)\n",
    "\n",
    "accuracy = classification_report(y_test, y_pred, output_dict=True)['accuracy']\n",
    "print(accuracy)\n",
    "print(list(voting_clf.predict(database_test)))"
   ]
  },
  {
   "cell_type": "code",
   "execution_count": null,
   "metadata": {},
   "outputs": [],
   "source": [
    "from sklearn.tree import DecisionTreeClassifier\n",
    "from sklearn.ensemble import BaggingClassifier\n",
    "from sklearn.metrics import classification_report\n",
    "\n",
    "dt_clf = DecisionTreeClassifier(class_weight='balanced', random_state=11)\n",
    "\n",
    "bagging_clf = BaggingClassifier(\n",
    "    estimator=dt_clf,\n",
    "    max_samples=0.5,\n",
    "    max_features=0.5,\n",
    "    bootstrap=False,\n",
    "    random_state=11\n",
    ")\n",
    "\n",
    "bagging_clf.fit(X_train, y_train)\n",
    "\n",
    "y_pred = bagging_clf.predict(X_test)\n",
    "\n",
    "test_report = classification_report(y_test, y_pred, digits=3)\n",
    "print(test_report)\n",
    "accuracy = classification_report(y_test, y_pred, output_dict=True)['accuracy']\n",
    "print(accuracy)\n",
    "print(list(bagging_clf.predict(database_test)))"
   ]
  },
  {
   "cell_type": "code",
   "execution_count": null,
   "metadata": {},
   "outputs": [],
   "source": [
    "from sklearn.ensemble import GradientBoostingClassifier\n",
    "from sklearn.metrics import classification_report\n",
    "\n",
    "gb_clf = GradientBoostingClassifier(\n",
    "    n_estimators=500, \n",
    "    learning_rate=0.8, \n",
    "    random_state=11, \n",
    "    max_depth=2\n",
    ")\n",
    "\n",
    "gb_clf.fit(X_train, y_train)\n",
    "\n",
    "y_pred = gb_clf.predict(X_test)\n",
    "\n",
    "test_report = classification_report(y_test, y_pred, digits=3)\n",
    "print(test_report)\n",
    "\n",
    "accuracy_test = classification_report(y_test, y_pred, output_dict=True)['accuracy']\n",
    "print(accuracy_test)\n",
    "print(list(gb_clf.predict(database_test)))"
   ]
  },
  {
   "cell_type": "code",
   "execution_count": null,
   "metadata": {},
   "outputs": [],
   "source": [
    "from sklearn.tree import DecisionTreeClassifier\n",
    "from sklearn.ensemble import AdaBoostClassifier\n",
    "from sklearn.metrics import classification_report\n",
    "\n",
    "dt_clf = DecisionTreeClassifier(max_depth=3, class_weight='balanced', random_state=11)\n",
    "\n",
    "ada_clf = AdaBoostClassifier(\n",
    "    estimator=dt_clf,\n",
    "    n_estimators=300,\n",
    "    learning_rate=0.5,\n",
    "    random_state=11\n",
    ")\n",
    "\n",
    "ada_clf.fit(X_train, y_train)\n",
    "\n",
    "y_pred = ada_clf.predict(X_test)\n",
    "\n",
    "test_report = classification_report(y_test, y_pred, digits=3)\n",
    "print(test_report)\n",
    "\n",
    "accuracy_test = classification_report(y_test, y_pred, output_dict=True)['accuracy']\n",
    "print(accuracy_test)\n",
    "print(list(ada_clf.predict(database_test)))"
   ]
  },
  {
   "cell_type": "code",
   "execution_count": null,
   "metadata": {},
   "outputs": [],
   "source": [
    "from sklearn.ensemble import StackingClassifier\n",
    "from sklearn.ensemble import RandomForestClassifier\n",
    "from sklearn.svm import SVC\n",
    "from sklearn.linear_model import LogisticRegression\n",
    "from sklearn.metrics import classification_report\n",
    "\n",
    "rf_clf = RandomForestClassifier(random_state=11)\n",
    "svc_clf = SVC(random_state=11)\n",
    "\n",
    "stacking_clf = StackingClassifier(\n",
    "    estimators=[('rf', rf_clf), ('svc', svc_clf)],\n",
    "    final_estimator=LogisticRegression(random_state=11)\n",
    ")\n",
    "\n",
    "stacking_clf.fit(X_train, y_train)\n",
    "\n",
    "y_pred = stacking_clf.predict(X_test)\n",
    "\n",
    "test_report = classification_report(y_test, y_pred, digits=3)\n",
    "print(test_report)\n",
    "\n",
    "accuracy_test = classification_report(y_test, y_pred, output_dict=True)['accuracy']\n",
    "print(accuracy_test)\n",
    "print(list(stacking_clf.predict(database_test)))"
   ]
  }
 ],
 "metadata": {
  "kernelspec": {
   "display_name": "Python 3",
   "language": "python",
   "name": "python3"
  },
  "language_info": {
   "codemirror_mode": {
    "name": "ipython",
    "version": 3
   },
   "file_extension": ".py",
   "mimetype": "text/x-python",
   "name": "python",
   "nbconvert_exporter": "python",
   "pygments_lexer": "ipython3",
   "version": "3.10.12"
  }
 },
 "nbformat": 4,
 "nbformat_minor": 2
}
