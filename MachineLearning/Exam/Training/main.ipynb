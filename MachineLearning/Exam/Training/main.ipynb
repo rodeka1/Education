{
 "cells": [
  {
   "cell_type": "code",
   "execution_count": null,
   "metadata": {},
   "outputs": [],
   "source": [
    "import pandas as pd\n",
    "!pip3 install seaborn\n",
    "import seaborn as sns\n",
    "!pip3 install scikit-learn\n",
    "from sklearn.linear_model import LinearRegression\n",
    "from sklearn.linear_model import LogisticRegression\n",
    "from sklearn.model_selection import train_test_split\n",
    "from sklearn.decomposition import PCA\n",
    "from sklearn.metrics import r2_score\n",
    "from sklearn.metrics import confusion_matrix\n",
    "from sklearn.metrics import f1_score\n",
    "from sklearn.neighbors import KNeighborsClassifier\n"
   ]
  },
  {
   "cell_type": "code",
   "execution_count": null,
   "metadata": {},
   "outputs": [],
   "source": [
    "database = pd.read_csv('database.csv')\n",
    "size = len(database)\n",
    "print(size)\n",
    "print(database['MIP'].mean())\n",
    "print(min(database['MIP']))"
   ]
  },
  {
   "cell_type": "code",
   "execution_count": null,
   "metadata": {},
   "outputs": [],
   "source": [
    "def sortbySIP(database):\n",
    "    return database['SIP']\n",
    "\n",
    "database = database.sort_values(by='SIP')\n",
    "X_train, X_test, y_train, y_test = train_test_split(\n",
    "    database.drop('TARGET', axis=1),\n",
    "    database['TARGET'],\n",
    "    train_size=0.8,\n",
    "    test_size=0.2,\n",
    "    random_state=33,\n",
    "    stratify=database['TARGET']\n",
    ")\n",
    "\n",
    "print(max(X_train['STDC']))"
   ]
  },
  {
   "cell_type": "code",
   "execution_count": null,
   "metadata": {},
   "outputs": [],
   "source": [
    "for key in X_train.keys():\n",
    "    Min = min(X_train[key])\n",
    "    Max = max(X_train[key])\n",
    "    for key_i in X_train[key].keys():\n",
    "        X_train[key][key_i]=(X_train[key][key_i]-Min)/(Max-Min)\n",
    "    for key_i in X_test[key].keys():\n",
    "        X_test[key][key_i]=(X_test[key][key_i]-Min)/(Max-Min)\n",
    "    "
   ]
  },
  {
   "cell_type": "code",
   "execution_count": null,
   "metadata": {},
   "outputs": [],
   "source": [
    "print(X_train['STDIP'].mean())"
   ]
  },
  {
   "cell_type": "code",
   "execution_count": null,
   "metadata": {},
   "outputs": [],
   "source": [
    "model = LogisticRegression()\n",
    "model.fit(X_train, y_train)\n",
    "print(confusion_matrix(y_test, model.predict(X_test)))"
   ]
  },
  {
   "cell_type": "code",
   "execution_count": null,
   "metadata": {},
   "outputs": [],
   "source": [
    "print(f1_score(y_test, model.predict(X_test)))"
   ]
  },
  {
   "cell_type": "code",
   "execution_count": null,
   "metadata": {},
   "outputs": [],
   "source": [
    "model = KNeighborsClassifier(n_neighbors=3)\n",
    "model.fit(X_train, y_train)\n",
    "print(confusion_matrix(y_test, model.predict(X_test)))\n",
    "print(f1_score(y_test, model.predict(X_test)))"
   ]
  }
 ],
 "metadata": {
  "kernelspec": {
   "display_name": "Python 3",
   "language": "python",
   "name": "python3"
  },
  "language_info": {
   "codemirror_mode": {
    "name": "ipython",
    "version": 3
   },
   "file_extension": ".py",
   "mimetype": "text/x-python",
   "name": "python",
   "nbconvert_exporter": "python",
   "pygments_lexer": "ipython3",
   "version": "3.10.12"
  }
 },
 "nbformat": 4,
 "nbformat_minor": 2
}
