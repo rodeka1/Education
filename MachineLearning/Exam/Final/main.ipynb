{
 "cells": [
  {
   "cell_type": "code",
   "execution_count": null,
   "metadata": {},
   "outputs": [],
   "source": [
    "import pandas as pd\n",
    "from sklearn.model_selection import train_test_split\n",
    "from sklearn.linear_model import LogisticRegression\n",
    "from sklearn.metrics import confusion_matrix\n",
    "from sklearn.metrics import ConfusionMatrixDisplay\n",
    "from sklearn.metrics import f1_score\n",
    "from sklearn.neighbors import KNeighborsClassifier"
   ]
  },
  {
   "cell_type": "code",
   "execution_count": null,
   "metadata": {},
   "outputs": [],
   "source": [
    "database = pd.read_csv('database.csv')"
   ]
  },
  {
   "cell_type": "code",
   "execution_count": null,
   "metadata": {},
   "outputs": [],
   "source": [
    "print(database['stdip'].mean())"
   ]
  },
  {
   "cell_type": "code",
   "execution_count": null,
   "metadata": {},
   "outputs": [],
   "source": [
    "database = database.sort_values(by='sip')\n",
    "X_train, X_test, y_train, y_test = train_test_split(\n",
    "    database.drop('target', axis=1),\n",
    "    database['target'],\n",
    "    train_size=0.8,\n",
    "    test_size=0.2,\n",
    "    random_state=27,\n",
    "    stratify=database['target']\n",
    ")"
   ]
  },
  {
   "cell_type": "code",
   "execution_count": null,
   "metadata": {},
   "outputs": [],
   "source": [
    "print(X_train['stdip'].mean())"
   ]
  },
  {
   "cell_type": "code",
   "execution_count": null,
   "metadata": {},
   "outputs": [],
   "source": [
    "for key in X_train.keys():\n",
    "    Min = min(X_train[key])\n",
    "    Max = max(X_train[key])\n",
    "    for key_i in X_train[key].keys():\n",
    "        X_train[key][key_i]=(X_train[key][key_i]-Min)/(Max-Min)\n",
    "    for key_i in X_test[key].keys():\n",
    "        X_test[key][key_i]=(X_test[key][key_i]-Min)/(Max-Min)"
   ]
  },
  {
   "cell_type": "code",
   "execution_count": null,
   "metadata": {},
   "outputs": [],
   "source": [
    "print(X_train['ekc'].mean())"
   ]
  },
  {
   "cell_type": "code",
   "execution_count": null,
   "metadata": {},
   "outputs": [],
   "source": [
    "model = LogisticRegression(random_state=27)\n",
    "model.fit(X_train, y_train)\n",
    "ConfusionMatrixDisplay(confusion_matrix(y_test, model.predict(X_test))).plot()\n",
    "print(f1_score(y_test, model.predict(X_test)))"
   ]
  },
  {
   "cell_type": "code",
   "execution_count": null,
   "metadata": {},
   "outputs": [],
   "source": [
    "model = KNeighborsClassifier(n_neighbors=3)\n",
    "model.fit(X_train, y_train)\n",
    "ConfusionMatrixDisplay(confusion_matrix(y_test, model.predict(X_test))).plot()\n",
    "print(f1_score(y_test, model.predict(X_test)))"
   ]
  }
 ],
 "metadata": {
  "kernelspec": {
   "display_name": "Python 3",
   "language": "python",
   "name": "python3"
  },
  "language_info": {
   "codemirror_mode": {
    "name": "ipython",
    "version": 3
   },
   "file_extension": ".py",
   "mimetype": "text/x-python",
   "name": "python",
   "nbconvert_exporter": "python",
   "pygments_lexer": "ipython3",
   "version": "3.10.12"
  }
 },
 "nbformat": 4,
 "nbformat_minor": 2
}
