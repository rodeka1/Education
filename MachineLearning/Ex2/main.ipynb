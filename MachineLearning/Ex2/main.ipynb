{
 "cells": [
  {
   "cell_type": "code",
   "execution_count": null,
   "metadata": {},
   "outputs": [],
   "source": [
    "import numpy as np\n",
    "!pip3 install scikit-learn\n",
    "from sklearn.decomposition import PCA\n",
    "!pip3 install matplotlib\n",
    "import matplotlib.pyplot as plt"
   ]
  },
  {
   "cell_type": "code",
   "execution_count": null,
   "metadata": {},
   "outputs": [],
   "source": [
    "database = np.loadtxt('database.csv', delimiter=',')\n",
    "size = len(database)\n",
    "\n",
    "pca = PCA(svd_solver='full')\n",
    "pca.fit(database)\n",
    "\n",
    "first_object_coordinates = pca.transform(database)[0, :2]\n",
    "\n",
    "explained_variance_ratio = np.sum(pca.explained_variance_ratio_[:2])\n",
    "\n",
    "min_components_for_variance = np.argmax(np.cumsum(pca.explained_variance_ratio_) > 0.85)\n",
    "\n",
    "print(first_object_coordinates, explained_variance_ratio, min_components_for_variance)"
   ]
  },
  {
   "cell_type": "code",
   "execution_count": null,
   "metadata": {},
   "outputs": [],
   "source": [
    "scores = np.loadtxt('X_score.csv', delimiter=';')\n",
    "weights = np.loadtxt('X_weight.csv', delimiter=';')\n",
    "\n",
    "pca = PCA(n_components=10, svd_solver='full')\n",
    "pca.fit(scores)\n",
    "\n",
    "X_scores = pca.transform(scores)\n",
    "\n",
    "X_res = np.dot(X_scores, weights.T)\n",
    "\n",
    "plt.imshow(X_res, cmap='gray')\n",
    "plt.axis('off')\n",
    "plt.show()"
   ]
  }
 ],
 "metadata": {
  "kernelspec": {
   "display_name": "Python 3",
   "language": "python",
   "name": "python3"
  },
  "language_info": {
   "codemirror_mode": {
    "name": "ipython",
    "version": 3
   },
   "file_extension": ".py",
   "mimetype": "text/x-python",
   "name": "python",
   "nbconvert_exporter": "python",
   "pygments_lexer": "ipython3",
   "version": "3.10.12"
  }
 },
 "nbformat": 4,
 "nbformat_minor": 2
}
