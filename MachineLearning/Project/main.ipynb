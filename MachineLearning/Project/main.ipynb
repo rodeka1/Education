{
 "cells": [
  {
   "cell_type": "code",
   "execution_count": 38,
   "metadata": {},
   "outputs": [
    {
     "name": "stdout",
     "output_type": "stream",
     "text": [
      "Defaulting to user installation because normal site-packages is not writeable\n",
      "Requirement already satisfied: pandas in /home/rodeka/.local/lib/python3.10/site-packages (2.2.1)\n",
      "Requirement already satisfied: python-dateutil>=2.8.2 in /home/rodeka/.local/lib/python3.10/site-packages (from pandas) (2.9.0.post0)\n",
      "Requirement already satisfied: numpy<2,>=1.22.4 in /home/rodeka/.local/lib/python3.10/site-packages (from pandas) (1.26.4)\n",
      "Requirement already satisfied: tzdata>=2022.7 in /home/rodeka/.local/lib/python3.10/site-packages (from pandas) (2024.1)\n",
      "Requirement already satisfied: pytz>=2020.1 in /home/rodeka/.local/lib/python3.10/site-packages (from pandas) (2024.1)\n",
      "Requirement already satisfied: six>=1.5 in /usr/lib/python3/dist-packages (from python-dateutil>=2.8.2->pandas) (1.16.0)\n",
      "Defaulting to user installation because normal site-packages is not writeable\n",
      "Requirement already satisfied: scikit-learn in /home/rodeka/.local/lib/python3.10/site-packages (1.4.1.post1)\n",
      "Requirement already satisfied: joblib>=1.2.0 in /home/rodeka/.local/lib/python3.10/site-packages (from scikit-learn) (1.3.2)\n",
      "Requirement already satisfied: scipy>=1.6.0 in /home/rodeka/.local/lib/python3.10/site-packages (from scikit-learn) (1.13.0)\n",
      "Requirement already satisfied: threadpoolctl>=2.0.0 in /home/rodeka/.local/lib/python3.10/site-packages (from scikit-learn) (3.4.0)\n",
      "Requirement already satisfied: numpy<2.0,>=1.19.5 in /home/rodeka/.local/lib/python3.10/site-packages (from scikit-learn) (1.26.4)\n"
     ]
    }
   ],
   "source": [
    "!pip3 install pandas\n",
    "!pip3 install scikit-learn"
   ]
  },
  {
   "cell_type": "markdown",
   "metadata": {},
   "source": [
    "REMIND!!! database can't be shared. To get database.csv go to your cloud :)"
   ]
  },
  {
   "cell_type": "code",
   "execution_count": 39,
   "metadata": {},
   "outputs": [],
   "source": [
    "import pandas as pd\n",
    "import numpy as np\n",
    "import matplotlib as plt\n",
    "import seaborn as sns\n",
    "from collections import Counter\n",
    "import re\n",
    "\n",
    "import warnings\n",
    "warnings.simplefilter(action='ignore', category=pd.errors.PerformanceWarning)\n",
    "\n",
    "database = pd.read_csv('database.csv')\n"
   ]
  },
  {
   "cell_type": "code",
   "execution_count": 40,
   "metadata": {},
   "outputs": [],
   "source": [
    "# преобразование даты и времени в сколько прошло минут с полуночи\n",
    "database['TIMESTAMP'] = pd.to_datetime(database['TIMESTAMP'])\n",
    "database['MINUTES'] = database['TIMESTAMP'].dt.hour * 60 + database['TIMESTAMP'].dt.minute\n",
    "database.drop(columns=['TIMESTAMP'], inplace=True)\n",
    "\n",
    "# удалени дубликатов с заниженым прайсом\n",
    "database.sort_values(by=['SERVICE', 'ORDER_PRICE'], ascending=[True, False], inplace=True)\n",
    "database.drop_duplicates(subset='SERVICE', keep='first', inplace=True)\n",
    "database.drop(columns=['SERVICE'], inplace=True)\n",
    "\n",
    "# преобразование платформы в число от 0 - 2\n",
    "def replace_platforms(platforms_str):\n",
    "    platform_list = platforms_str.strip().split(' ')\n",
    "    platform_dict = {'PC': 0, 'XBOX': 1, 'PS4': 2, 'platform?': 0}\n",
    "    replaced_list = [platform_dict[platform] for platform in platform_list]\n",
    "    return replaced_list[0]\n",
    "\n",
    "database['PLATFORM'] = database['CHANNEL'].apply(replace_platforms)\n",
    "database.drop(columns=['CHANNEL'], inplace=True)\n",
    "\n",
    "database['REAL_PRICE'] = pd.to_numeric(database['REAL_PRICE'], errors='coerce')\n",
    "database['ORDER_PRICE'] = pd.to_numeric(database['ORDER_PRICE'])\n",
    "database['COEF'] = database['REAL_PRICE']/database['ORDER_PRICE']\n",
    "coef = database['COEF'].mean()\n",
    "database['REAL_PRICE'] = database.apply(lambda row: row['ORDER_PRICE']*coef if pd.isnull(row['REAL_PRICE']) else row['REAL_PRICE'], axis=1)\n",
    "\n",
    "database['ORDER_DESC'] = database['ORDER_DESC'].str.replace('↑↑', ' ')\n",
    "database['ORDER_INFO'] = database['ORDER_INFO'].str.replace('\\n', ' ')\n",
    "\n",
    "words = ''.join(database['ORDER_DESC'].astype(str)) + ' '.join(database['ORDER_INFO'].astype(str))\n",
    "count = Counter(words.split(' ')).most_common(150)\n",
    "for word in count:\n",
    "    pattern = re.escape(word[0])\n",
    "    counts = database['ORDER_DESC'].str.count(pattern) + database['ORDER_INFO'].str.count(pattern)\n",
    "    database[word[0]] = counts\n",
    "\n",
    "        \n",
    "\n",
    "corr_matrix = database.drop(columns=['ORDER_DESC', 'ORDER_INFO']).corr()\n",
    "least_correlated_features = corr_matrix.abs().mean(axis=1).nsmallest(100)\n",
    "for feature in least_correlated_features.index:\n",
    "    if feature in count:\n",
    "        database.drop(columns=[feature], inplace=True)\n",
    "\n",
    "database.drop(columns=['ORDER_INFO', 'ORDER_DESC'], inplace=True)"
   ]
  },
  {
   "cell_type": "code",
   "execution_count": 41,
   "metadata": {},
   "outputs": [],
   "source": [
    "from sklearn.model_selection import train_test_split\n",
    "from sklearn.tree import DecisionTreeRegressor\n",
    "from sklearn.metrics import mean_squared_error, mean_absolute_error, r2_score\n",
    "from catboost import CatBoostRegressor"
   ]
  },
  {
   "cell_type": "code",
   "execution_count": 42,
   "metadata": {},
   "outputs": [
    {
     "name": "stdout",
     "output_type": "stream",
     "text": [
      "6.101926775956284 0.7006120218579235 0.9752167703941963 0.1499999999999999\n"
     ]
    }
   ],
   "source": [
    "X = database.drop(columns=['ORDER_PRICE'])\n",
    "y = database['ORDER_PRICE']\n",
    "\n",
    "X_train, X_test, y_train, y_test = train_test_split(X, y, test_size=0.2)\n",
    "\n",
    "model = DecisionTreeRegressor(random_state=11, criterion='squared_error')\n",
    "model.fit(X_train, y_train)\n",
    "\n",
    "y_pred = model.predict(X_test)\n",
    "\n",
    "mse = mean_squared_error(y_test, y_pred)\n",
    "mae = mean_absolute_error(y_test, y_pred)\n",
    "r2 = r2_score(y_test, y_pred)\n",
    "mead = pd.Series(abs(y_test - y_pred)).median()\n",
    "print(mse, mae, r2, mead)\n"
   ]
  },
  {
   "cell_type": "code",
   "execution_count": 43,
   "metadata": {},
   "outputs": [
    {
     "name": "stdout",
     "output_type": "stream",
     "text": [
      "3.045245179169885 0.6786411784780456 0.9876316099402052 0.2904554087887963\n"
     ]
    }
   ],
   "source": [
    "model = CatBoostRegressor(iterations=5000, depth=8, learning_rate=0.005, verbose=False)\n",
    "model.fit(X_train, y_train)\n",
    "\n",
    "y_pred = model.predict(X_test)\n",
    "\n",
    "mse = mean_squared_error(y_test, y_pred)\n",
    "mae = mean_absolute_error(y_test, y_pred)\n",
    "r2 = r2_score(y_test, y_pred)\n",
    "mead = pd.Series(abs(y_test - y_pred)).median()\n",
    "print(mse, mae, r2, mead)"
   ]
  }
 ],
 "metadata": {
  "kernelspec": {
   "display_name": "Python 3",
   "language": "python",
   "name": "python3"
  },
  "language_info": {
   "codemirror_mode": {
    "name": "ipython",
    "version": 3
   },
   "file_extension": ".py",
   "mimetype": "text/x-python",
   "name": "python",
   "nbconvert_exporter": "python",
   "pygments_lexer": "ipython3",
   "version": "3.10.12"
  }
 },
 "nbformat": 4,
 "nbformat_minor": 2
}
