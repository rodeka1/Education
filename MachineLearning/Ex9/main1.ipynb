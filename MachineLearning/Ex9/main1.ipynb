{
  "cells": [
    {
      "cell_type": "code",
      "execution_count": null,
      "metadata": {
        "id": "3nDPHfj1zEMO",
        "pycharm": {
          "name": "#%%\n"
        }
      },
      "outputs": [],
      "source": [
        "from keras.datasets import mnist\n",
        "import warnings\n",
        "warnings.filterwarnings(\"ignore\")\n",
        "\n",
        "(_,_), (X, y) = mnist.load_data()"
      ]
    },
    {
      "cell_type": "code",
      "execution_count": null,
      "metadata": {
        "colab": {
          "base_uri": "https://localhost:8080/",
          "height": 416
        },
        "id": "QMk1_le8zhWm",
        "outputId": "d234d3a0-4d9f-45a9-baac-09f2dfae4db7",
        "pycharm": {
          "name": "#%%\n"
        }
      },
      "outputs": [],
      "source": [
        "import matplotlib.pyplot as plt\n",
        "\n",
        "fig, ax = plt.subplots(4, 6)\n",
        "for i, axi in enumerate(ax.flat):\n",
        "    axi.imshow(X[i], cmap='gray')\n",
        "    axi.set(xticks=[], yticks=[])\n",
        "    axi.set_xlabel(y[i],\n",
        "                   color='black')"
      ]
    },
    {
      "cell_type": "code",
      "execution_count": null,
      "metadata": {
        "colab": {
          "base_uri": "https://localhost:8080/"
        },
        "id": "8p4JfdQBzI_g",
        "outputId": "2d1feb98-9a9d-44c8-95db-5c776bdc5ea5",
        "pycharm": {
          "name": "#%%\n"
        }
      },
      "outputs": [],
      "source": [
        "print(X.shape, y.shape)"
      ]
    },
    {
      "cell_type": "code",
      "execution_count": null,
      "metadata": {
        "id": "tdmPQt7CFoDo"
      },
      "outputs": [],
      "source": [
        "from sklearn.model_selection import train_test_split\n",
        "import pandas as pd\n",
        "from sklearn.cluster import KMeans\n",
        "from sklearn.cluster import MiniBatchKMeans\n",
        "import tensorflow as tf\n",
        "import numpy as np\n",
        "X_train, X_test, y_train, y_test = train_test_split(X, y, test_size=0.2, random_state=29)"
      ]
    },
    {
      "cell_type": "code",
      "execution_count": null,
      "metadata": {
        "id": "XjyduSPmH_5K",
        "pycharm": {
          "name": "#%%\n"
        }
      },
      "outputs": [],
      "source": [
        "X_train = X_train.reshape(-1, 784)\n",
        "kmeans = KMeans(n_clusters=10, random_state=29)\n",
        "kmeans.fit(X_train)\n",
        "train_labels = kmeans.labels_"
      ]
    },
    {
      "cell_type": "code",
      "execution_count": null,
      "metadata": {
        "colab": {
          "base_uri": "https://localhost:8080/"
        },
        "id": "wv84etHwxrFY",
        "outputId": "0820634c-4160-4e87-b437-64dd101d1a66"
      },
      "outputs": [],
      "source": [
        "print(np.sum(kmeans.labels_ == 3))"
      ]
    },
    {
      "cell_type": "code",
      "execution_count": null,
      "metadata": {
        "colab": {
          "base_uri": "https://localhost:8080/",
          "height": 268
        },
        "id": "9zeRnmdYI60h",
        "outputId": "ed16a08b-cb64-478a-ea94-89137510c9cb",
        "pycharm": {
          "name": "#%%\n"
        }
      },
      "outputs": [],
      "source": [
        "centroids = kmeans.cluster_centers_\n",
        "centroids_images = centroids.reshape(10, 28, 28)\n",
        "\n",
        "fig, axes = plt.subplots(2, 5, figsize=(8, 3))\n",
        "for i, ax in enumerate(axes.ravel()):\n",
        "    ax.imshow(centroids_images[i], cmap='gray')\n",
        "    ax.axis('off')\n",
        "plt.show()"
      ]
    },
    {
      "cell_type": "code",
      "execution_count": null,
      "metadata": {
        "colab": {
          "base_uri": "https://localhost:8080/"
        },
        "id": "f8jqdsEVJmWT",
        "outputId": "573fcea4-53d6-43a1-cf42-e5e52f73c1a4",
        "pycharm": {
          "name": "#%%\n"
        }
      },
      "outputs": [],
      "source": [
        "from scipy.stats import mode\n",
        "\n",
        "cluster_labels = np.zeros(10, dtype=int)\n",
        "for i in range(10):\n",
        "    mask = (train_labels == i)\n",
        "    cluster_labels[i] = mode(y_train[mask])[0]\n",
        "\n",
        "train_predictions = cluster_labels[train_labels]\n",
        "\n",
        "print(cluster_labels)"
      ]
    },
    {
      "cell_type": "code",
      "execution_count": null,
      "metadata": {
        "colab": {
          "base_uri": "https://localhost:8080/"
        },
        "id": "R0-nWU3QIbxW",
        "outputId": "b7008748-74fe-49bc-d8e9-72f0b08c4d76",
        "pycharm": {
          "name": "#%%\n"
        }
      },
      "outputs": [],
      "source": [
        "from sklearn.metrics import accuracy_score, confusion_matrix\n",
        "\n",
        "test_labels = kmeans.predict(X_test.reshape(-1, 784))\n",
        "test_predictions = cluster_labels[test_labels]"
      ]
    },
    {
      "cell_type": "code",
      "execution_count": null,
      "metadata": {
        "colab": {
          "base_uri": "https://localhost:8080/",
          "height": 735
        },
        "id": "I0CTtjKTOJW3",
        "outputId": "dd60bb84-bb93-44d1-a163-eae6681a5804",
        "pycharm": {
          "name": "#%%\n"
        }
      },
      "outputs": [],
      "source": [
        "conf_matrix = confusion_matrix(y_test, test_predictions)\n",
        "\n",
        "# Визуализация матрицы ошибок\n",
        "plt.figure(figsize=(10, 8))\n",
        "plt.imshow(conf_matrix, cmap='Blues')\n",
        "plt.colorbar()\n",
        "plt.show()\n",
        "\n",
        "most_confused_with_9 = np.argmax(conf_matrix[9])\n",
        "print(most_confused_with_9)"
      ]
    },
    {
      "cell_type": "code",
      "execution_count": null,
      "metadata": {
        "id": "3ZqfYG1sKyBV",
        "pycharm": {
          "name": "#%%\n"
        }
      },
      "outputs": [],
      "source": [
        "test_accuracy = accuracy_score(y_test, test_predictions)\n",
        "print(test_accuracy)"
      ]
    },
    {
      "cell_type": "code",
      "execution_count": null,
      "metadata": {
        "id": "4qpZi15-THR-",
        "pycharm": {
          "name": "#%%\n"
        }
      },
      "outputs": [],
      "source": [
        "from sklearn.manifold import TSNE\n",
        "tsne = TSNE(n_components=2, init='random', random_state=29)\n",
        "X_train_tsne = tsne.fit_transform(X_train)\n",
        "kmeans_tsne = KMeans(n_clusters=10, random_state=29)\n",
        "kmeans_tsne.fit(X_train_tsne)\n",
        "\n",
        "train_labels_tsne = kmeans_tsne.labels_"
      ]
    },
    {
      "cell_type": "code",
      "execution_count": null,
      "metadata": {
        "id": "cKS1wMc47jRB"
      },
      "outputs": [],
      "source": [
        "kmeans_tsne = KMeans(n_clusters=10, random_state=29)\n",
        "kmeans_tsne.fit(X_train_tsne)\n",
        "\n",
        "train_labels_tsne = kmeans_tsne.labels_"
      ]
    },
    {
      "cell_type": "code",
      "execution_count": null,
      "metadata": {
        "colab": {
          "base_uri": "https://localhost:8080/"
        },
        "id": "3eeG-ef57pqP",
        "outputId": "9e1b486c-4329-4705-a304-78589b106c45"
      },
      "outputs": [],
      "source": [
        "from scipy.stats import mode\n",
        "\n",
        "cluster_labels_tsne = np.zeros(10, dtype=int)\n",
        "for i in range(10):\n",
        "    mask = (train_labels_tsne == i)\n",
        "    cluster_labels_tsne[i] = mode(y_train[mask])[0]\n",
        "\n",
        "train_predictions_tsne = cluster_labels_tsne[train_labels_tsne]\n",
        "\n",
        "print(cluster_labels_tsne)\n"
      ]
    },
    {
      "cell_type": "code",
      "execution_count": null,
      "metadata": {
        "colab": {
          "base_uri": "https://localhost:8080/"
        },
        "id": "cfb_lL6q7qF2",
        "outputId": "8c85dbb9-7749-461f-dbf8-c9c78791563d"
      },
      "outputs": [],
      "source": [
        "train_accuracy_tsne = accuracy_score(y_train, train_predictions_tsne)\n",
        "print(train_accuracy_tsne)"
      ]
    }
  ],
  "metadata": {
    "colab": {
      "provenance": []
    },
    "kernelspec": {
      "display_name": "Python 3",
      "name": "python3"
    },
    "language_info": {
      "codemirror_mode": {
        "name": "ipython",
        "version": 3
      },
      "file_extension": ".py",
      "mimetype": "text/x-python",
      "name": "python",
      "nbconvert_exporter": "python",
      "pygments_lexer": "ipython3",
      "version": "3.10.12"
    }
  },
  "nbformat": 4,
  "nbformat_minor": 0
}
