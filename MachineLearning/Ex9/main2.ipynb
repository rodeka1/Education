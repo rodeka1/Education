{
  "cells": [
    {
      "cell_type": "code",
      "execution_count": null,
      "metadata": {
        "colab": {
          "base_uri": "https://localhost:8080/",
          "height": 385
        },
        "id": "9TsZ9FGI7hsN",
        "outputId": "a89674d4-4e4a-4fe0-d0a7-a2cebee724eb",
        "pycharm": {
          "name": "#%%\n"
        }
      },
      "outputs": [],
      "source": [
        "import matplotlib.pyplot as plt\n",
        "from PIL import Image\n",
        "import numpy as np\n",
        "\n",
        "import numpy as np\n",
        "from sklearn.cluster import MiniBatchKMeans\n",
        "\n",
        "\n",
        "image_path = 'spb_barocco.jpg'\n",
        "image = Image.open(image_path)\n",
        "image = np.array(image)\n",
        "\n",
        "mean_intensity = np.mean(image)"
      ]
    },
    {
      "cell_type": "code",
      "execution_count": null,
      "metadata": {
        "colab": {
          "base_uri": "https://localhost:8080/"
        },
        "id": "MIIf9UfX7hsO",
        "outputId": "7a4e06bf-6344-42ff-b635-d11c5f747c31",
        "pycharm": {
          "name": "#%%\n"
        }
      },
      "outputs": [],
      "source": [
        "image_normalized = image / 255.0\n",
        "\n",
        "mean_intensity_normalized = np.mean(image_normalized)\n",
        "print(mean_intensity_normalized)\n"
      ]
    },
    {
      "cell_type": "code",
      "execution_count": null,
      "metadata": {
        "colab": {
          "base_uri": "https://localhost:8080/"
        },
        "id": "sCzXUh3n7hsO",
        "outputId": "c244f202-5867-4446-9382-d73c811a5146",
        "pycharm": {
          "name": "#%%\n"
        }
      },
      "outputs": [],
      "source": [
        "h, w, c = image_normalized.shape\n",
        "image_reshaped = image_normalized.reshape(h * w, c)\n",
        "\n",
        "kmeans = MiniBatchKMeans(n_clusters=16, random_state=12)\n",
        "kmeans.fit(image_reshaped)\n",
        "\n",
        "new_colors = kmeans.cluster_centers_[kmeans.predict(image_reshaped)]\n",
        "new_image = new_colors.reshape(h, w, c)\n",
        "\n",
        "mean_intensity_new_image = np.mean(new_image)\n",
        "print(mean_intensity_new_image)\n"
      ]
    },
    {
      "cell_type": "code",
      "execution_count": null,
      "metadata": {
        "colab": {
          "base_uri": "https://localhost:8080/",
          "height": 1000
        },
        "id": "Mjgb1hbi7hsP",
        "outputId": "1a573144-6bae-453d-9de5-d35691a61e63",
        "pycharm": {
          "name": "#%%\n"
        }
      },
      "outputs": [],
      "source": [
        "def plot_pixels(data, colors, title):\n",
        "    plt.figure(figsize=(8, 6))\n",
        "    plt.scatter(data[:, 0], data[:, 1], c=colors, marker='.')\n",
        "    plt.title(title)\n",
        "    plt.xlabel('Red')\n",
        "    plt.ylabel('Green')\n",
        "    plt.show()\n",
        "\n",
        "# Построение графика зависимости цветов\n",
        "plot_pixels(image_reshaped, image_reshaped, 'Original Image Colors')\n",
        "plot_pixels(image_reshaped, new_colors, 'Compressed Image Colors')\n"
      ]
    },
    {
      "cell_type": "code",
      "execution_count": null,
      "metadata": {
        "colab": {
          "base_uri": "https://localhost:8080/",
          "height": 345
        },
        "id": "404YDxa_6Q9E",
        "outputId": "5dd0c1fc-da62-4d13-a55d-d78fc0e06788"
      },
      "outputs": [],
      "source": [
        "# Построение изображения 4x4 на основе 16 цветов\n",
        "palette_image = kmeans.cluster_centers_.reshape(4, 4, 3)\n",
        "plt.figure(figsize=(4, 4))\n",
        "plt.imshow(palette_image)\n",
        "plt.axis('off')\n",
        "plt.show()\n"
      ]
    }
  ],
  "metadata": {
    "colab": {
      "provenance": []
    },
    "kernelspec": {
      "display_name": "Python 3",
      "name": "python3"
    },
    "language_info": {
      "codemirror_mode": {
        "name": "ipython",
        "version": 3
      },
      "file_extension": ".py",
      "mimetype": "text/x-python",
      "name": "python",
      "nbconvert_exporter": "python",
      "pygments_lexer": "ipython3",
      "version": "3.10.12"
    }
  },
  "nbformat": 4,
  "nbformat_minor": 0
}
