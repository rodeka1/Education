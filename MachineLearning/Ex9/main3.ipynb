{
  "cells": [
    {
      "cell_type": "code",
      "execution_count": null,
      "metadata": {
        "colab": {
          "base_uri": "https://localhost:8080/"
        },
        "id": "dCNn7ks97hsP",
        "outputId": "46551531-1483-4408-8831-4fd151ef4391",
        "pycharm": {
          "name": "#%%\n"
        }
      },
      "outputs": [],
      "source": [
        "from sklearn.datasets import load_digits\n",
        "import matplotlib.pyplot as plt\n",
        "\n",
        "digits = load_digits()\n",
        "digits.data.shape"
      ]
    },
    {
      "cell_type": "code",
      "execution_count": null,
      "metadata": {
        "colab": {
          "base_uri": "https://localhost:8080/",
          "height": 653
        },
        "id": "ygsNMoYZ7hsQ",
        "outputId": "36839a9b-4b98-4d93-b887-fc094eb5399d",
        "pycharm": {
          "name": "#%%\n"
        }
      },
      "outputs": [],
      "source": [
        "fig, ax = plt.subplots(10, 10, figsize=(8, 8), subplot_kw=dict(xticks=[], yticks=[]))\n",
        "fig.subplots_adjust(hspace=0.05, wspace=0.05)\n",
        "for i, axi in enumerate(ax.flat):\n",
        "    im = axi.imshow(digits.data[i].reshape(8,8), cmap='binary')\n",
        "    im.set_clim(0, 16)"
      ]
    },
    {
      "cell_type": "code",
      "execution_count": null,
      "metadata": {
        "colab": {
          "base_uri": "https://localhost:8080/"
        },
        "id": "p76FXvva7hsQ",
        "outputId": "d072c9c5-4e27-4253-ac44-bd030c6d5cfd",
        "pycharm": {
          "name": "#%%\n"
        }
      },
      "outputs": [],
      "source": [
        "from sklearn.decomposition import PCA\n",
        "\n",
        "X, y = digits.data, digits.target\n",
        "pca = PCA(n_components=0.99, svd_solver='full')\n",
        "X_pca = pca.fit_transform(X)\n",
        "\n",
        "n_components_pca = X_pca.shape[1]\n",
        "print(n_components_pca)"
      ]
    },
    {
      "cell_type": "code",
      "execution_count": null,
      "metadata": {
        "colab": {
          "base_uri": "https://localhost:8080/"
        },
        "id": "kh26_izK7hsQ",
        "outputId": "aeda6b15-70e0-4351-d9e9-6afdd3ec7f74",
        "pycharm": {
          "name": "#%%\n"
        }
      },
      "outputs": [],
      "source": [
        "from sklearn.mixture import GaussianMixture\n",
        "import numpy as np\n",
        "\n",
        "aic_values = []\n",
        "n_components_range = range(50, 251, 10)\n",
        "\n",
        "for n in n_components_range:\n",
        "    gmm = GaussianMixture(n_components=n, covariance_type='full', random_state=13)\n",
        "    gmm.fit(X_pca)\n",
        "    aic_values.append(gmm.aic(X_pca))\n",
        "\n",
        "best_n_components = n_components_range[np.argmin(aic_values)]\n",
        "print(best_n_components)\n"
      ]
    },
    {
      "cell_type": "code",
      "execution_count": null,
      "metadata": {
        "colab": {
          "base_uri": "https://localhost:8080/"
        },
        "id": "VHMKmOSq7hsS",
        "outputId": "22d7f2d0-c273-4dbc-db00-e9548680e363",
        "pycharm": {
          "name": "#%%\n"
        }
      },
      "outputs": [],
      "source": [
        "gmm_final = GaussianMixture(n_components=best_n_components, covariance_type='full', random_state=13)\n",
        "gmm_final.fit(X_pca)\n",
        "\n",
        "print(gmm_final.converged_)\n",
        "\n",
        "samples, _ = gmm_final.sample(100)\n",
        "\n",
        "mean_coordinate_0 = np.mean(samples[:, 0])\n",
        "print(mean_coordinate_0)\n"
      ]
    },
    {
      "cell_type": "code",
      "execution_count": null,
      "metadata": {
        "colab": {
          "base_uri": "https://localhost:8080/",
          "height": 406
        },
        "id": "BACFeWFBDT0Z",
        "outputId": "816218c9-ba11-4030-d8c1-addccd966c64"
      },
      "outputs": [],
      "source": [
        "X_generated = pca.inverse_transform(samples)\n",
        "\n",
        "plt.imshow(X_generated[47].reshape(8, 8), cmap='gray')\n",
        "plt.axis('off')\n",
        "plt.show()\n"
      ]
    }
  ],
  "metadata": {
    "colab": {
      "provenance": []
    },
    "kernelspec": {
      "display_name": "Python 3",
      "name": "python3"
    },
    "language_info": {
      "codemirror_mode": {
        "name": "ipython",
        "version": 3
      },
      "file_extension": ".py",
      "mimetype": "text/x-python",
      "name": "python",
      "nbconvert_exporter": "python",
      "pygments_lexer": "ipython3",
      "version": "3.10.12"
    }
  },
  "nbformat": 4,
  "nbformat_minor": 0
}
