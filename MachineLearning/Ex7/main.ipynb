{
 "cells": [
  {
   "cell_type": "code",
   "execution_count": null,
   "metadata": {},
   "outputs": [],
   "source": [
    "import pandas as pd\n",
    "import matplotlib.pyplot as plt\n",
    "import numpy as np\n",
    "from sklearn.metrics.pairwise import cosine_similarity\n",
    "from sklearn.model_selection import train_test_split\n",
    "from sklearn.metrics import f1_score"
   ]
  },
  {
   "cell_type": "code",
   "execution_count": null,
   "metadata": {},
   "outputs": [],
   "source": [
    "database = pd.read_csv(\"persons_pics_train.csv\")"
   ]
  },
  {
   "cell_type": "code",
   "execution_count": null,
   "metadata": {},
   "outputs": [],
   "source": [
    "num_unique_people = database['label'].nunique()\n",
    "print(num_unique_people)"
   ]
  },
  {
   "cell_type": "code",
   "execution_count": null,
   "metadata": {},
   "outputs": [],
   "source": [
    "database['label'].value_counts().plot(kind='bar')\n",
    "plt.tight_layout()\n",
    "plt.show()\n",
    "\n",
    "total_samples = len(database)\n",
    "gerhard_schroeder_samples = database['label'].value_counts()['Gerhard Schroeder']\n",
    "gerhard_schroeder_fraction = gerhard_schroeder_samples / total_samples\n",
    "\n",
    "print(gerhard_schroeder_fraction)"
   ]
  },
  {
   "cell_type": "code",
   "execution_count": null,
   "metadata": {},
   "outputs": [],
   "source": [
    "mean_vectors = database.groupby('label').mean()\n",
    "\n",
    "gerhard_schroeder_vector = mean_vectors.loc['Gerhard Schroeder']\n",
    "gerhard_schroeder_coordinate = gerhard_schroeder_vector[0]\n",
    "print(gerhard_schroeder_coordinate)"
   ]
  },
  {
   "cell_type": "code",
   "execution_count": null,
   "metadata": {},
   "outputs": [],
   "source": [
    "for label, mean_vector in mean_vectors.iterrows():\n",
    "    image = np.array(mean_vector).reshape(62, 47)\n",
    "    \n",
    "    plt.imshow(image, cmap='gray')\n",
    "    plt.title(label)\n",
    "    plt.axis('off')\n",
    "    plt.show()"
   ]
  },
  {
   "cell_type": "code",
   "execution_count": null,
   "metadata": {},
   "outputs": [],
   "source": [
    "similarity_matrix = cosine_similarity(mean_vectors)\n",
    "gerhard_schroeder_index = mean_vectors.index.get_loc('Gerhard Schroeder')\n",
    "hugo_chavez_index = mean_vectors.index.get_loc('Hugo Chavez')\n",
    "cosine_similarity_value = similarity_matrix[gerhard_schroeder_index, hugo_chavez_index]\n",
    "\n",
    "print(cosine_similarity_value)\n"
   ]
  },
  {
   "cell_type": "code",
   "execution_count": null,
   "metadata": {},
   "outputs": [],
   "source": [
    "from sklearn.svm import SVC\n",
    "X = database.drop(columns=['label'])\n",
    "y = database['label']\n",
    "\n",
    "X_train, X_test, y_train, y_test = train_test_split(X, y, test_size=0.2, random_state=7, stratify=y)\n",
    "\n",
    "model = SVC(kernel='linear', random_state=7)\n",
    "model.fit(X_train, y_train)\n",
    "\n",
    "y_pred = model.predict(X_test)\n",
    "\n",
    "f1 = f1_score(y_test, y_pred, average='weighted')\n",
    "print(f1)\n",
    "\n"
   ]
  },
  {
   "cell_type": "code",
   "execution_count": null,
   "metadata": {},
   "outputs": [],
   "source": [
    "from sklearn.model_selection import GridSearchCV\n",
    "tuned_parameters = [{'kernel': ['linear', 'poly', 'rbf', 'sigmoid'], \n",
    "                     'gamma': [1e-3, 1e-4],\n",
    "                     'C': [1, 10, 100, 1000], \n",
    "                     'class_weight': [None, 'balanced'], \n",
    "                     'random_state':[7]}]\n",
    "cv = GridSearchCV(SVC(), tuned_parameters, refit=True, verbose=3)\n",
    "cv.fit(X, y)\n",
    "\n",
    "best_params = cv.best_params_\n",
    "print(best_params)\n",
    "\n",
    "best_model = cv.best_estimator_\n",
    "\n",
    "y_pred = best_model.predict(X_test)\n",
    "\n",
    "f1 = f1_score(y_test, y_pred, average='weighted')\n",
    "print(f1)\n"
   ]
  },
  {
   "cell_type": "code",
   "execution_count": null,
   "metadata": {},
   "outputs": [],
   "source": [
    "from sklearn.decomposition import PCA\n",
    "pca = PCA(svd_solver='full')\n",
    "pca.fit(X)\n",
    "explained_variance_ratio_cumulative = np.cumsum(pca.explained_variance_ratio_)\n",
    "num_components = np.argmax(explained_variance_ratio_cumulative > 0.95) + 1\n",
    "print(num_components)"
   ]
  }
 ],
 "metadata": {
  "kernelspec": {
   "display_name": "Python 3",
   "language": "python",
   "name": "python3"
  },
  "language_info": {
   "codemirror_mode": {
    "name": "ipython",
    "version": 3
   },
   "file_extension": ".py",
   "mimetype": "text/x-python",
   "name": "python",
   "nbconvert_exporter": "python",
   "pygments_lexer": "ipython3",
   "version": "3.10.12"
  }
 },
 "nbformat": 4,
 "nbformat_minor": 2
}
