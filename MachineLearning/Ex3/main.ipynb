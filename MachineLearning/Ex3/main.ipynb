{
 "cells": [
  {
   "cell_type": "code",
   "execution_count": null,
   "metadata": {},
   "outputs": [],
   "source": [
    "import pandas as pd\n",
    "!pip3 install seaborn\n",
    "import seaborn as sns\n",
    "!pip3 install scikit-learn\n",
    "from sklearn.linear_model import LinearRegression\n",
    "from sklearn.model_selection import train_test_split\n",
    "from sklearn.decomposition import PCA\n",
    "from sklearn.metrics import r2_score"
   ]
  },
  {
   "cell_type": "code",
   "execution_count": null,
   "metadata": {},
   "outputs": [],
   "source": [
    "database = pd.read_csv('1database.csv')\n",
    "\n",
    "X=database[\"X\"].to_numpy().reshape(-1, 1)\n",
    "Y=database[\"Y\"].to_numpy()\n",
    "\n",
    "model = LinearRegression().fit(X, Y)\n",
    "\n",
    "mean_x = X.mean()\n",
    "mean_y = Y.mean()\n",
    "\n",
    "c0 = model.coef_[0]\n",
    "c1 = model.intercept_\n",
    "\n",
    "r2 = model.score(X,Y)\n",
    "\n",
    "print(mean_x, mean_y)\n",
    "print(c0, c1)\n",
    "print(r2)"
   ]
  },
  {
   "cell_type": "code",
   "execution_count": null,
   "metadata": {},
   "outputs": [],
   "source": [
    "database = pd.read_csv('2database.csv')\n",
    "\n",
    "X_train, X_test, y_train, y_test = train_test_split(\n",
    "    database.drop('Weight', axis=1),\n",
    "    database['Weight'],\n",
    "    test_size=0.2,\n",
    "    random_state=21,\n",
    "    stratify=database[\"Species\"]\n",
    ")\n",
    "\n",
    "X_train = pd.concat([X_train, X_test])\n",
    "y_train = pd.concat([y_test, y_train])\n",
    "X_test = pd.read_csv('3database.csv')\n",
    "#database = pd.read_csv('3database.csv')\n",
    "\n",
    "X_train = X_train.drop('Species', axis=1)\n",
    "X_test = X_test.drop('Species', axis=1)\n",
    "\n",
    "model = LinearRegression()\n",
    "model.fit(X_train, y_train)\n",
    "\n",
    "#print(r2_score(y_test, model.predict(X_test)))"
   ]
  },
  {
   "cell_type": "code",
   "execution_count": null,
   "metadata": {},
   "outputs": [],
   "source": [
    "sns.heatmap(X_train)\n",
    "Length_train = []\n",
    "Length_test = []\n",
    "for key in X_train['Length1'].keys():\n",
    "    Length_train.append([X_train['Length1'][key], X_train['Length2'][key], X_train['Length3'][key]])\n",
    "for key in X_test['Length1'].keys():\n",
    "    Length_test.append([X_test['Length1'][key], X_test['Length2'][key], X_test['Length3'][key]])\n",
    "pca = PCA(n_components=3, svd_solver='full')\n",
    "pca.fit(Length_train)\n",
    "\n",
    "print(pca.explained_variance_ratio_[0])\n",
    "\n",
    "X_train = X_train.drop('Length3', axis=1).drop('Length2', axis=1).drop('Length1', axis=1)\n",
    "X_train['Lengths']=pca.transform(Length_train)[:, 0]\n",
    "X_test = X_test.drop('Length3', axis=1).drop('Length2', axis=1).drop('Length1', axis=1)\n",
    "X_test['Lengths']=pca.transform(Length_test)[:, 0]\n",
    "\n",
    "model = LinearRegression()\n",
    "model.fit(X_train, y_train)\n",
    "\n",
    "#print(r2_score(y_test, model.predict(X_test)))"
   ]
  },
  {
   "cell_type": "code",
   "execution_count": null,
   "metadata": {},
   "outputs": [],
   "source": [
    "for key in X_train['Width'].keys():\n",
    "    X_train['Width'][key] = X_train['Width'][key]**3\n",
    "    X_train['Height'][key] = X_train['Height'][key]**3\n",
    "    X_train['Lengths'][key] = X_train['Lengths'][key]**3\n",
    "for key in X_test['Width'].keys():\n",
    "    X_test['Width'][key] = X_test['Width'][key]**3\n",
    "    X_test['Height'][key] = X_test['Height'][key]**3\n",
    "    X_test['Lengths'][key] = X_test['Lengths'][key]**3"
   ]
  },
  {
   "cell_type": "code",
   "execution_count": null,
   "metadata": {},
   "outputs": [],
   "source": [
    "print(X_train['Width'].mean())\n",
    "model = LinearRegression()\n",
    "model.fit(X_train, y_train)\n",
    "#print(r2_score(y_test, model.predict(X_test)))"
   ]
  },
  {
   "cell_type": "code",
   "execution_count": null,
   "metadata": {},
   "outputs": [],
   "source": [
    "species_dummies = pd.get_dummies(database['Species'])\n",
    "#print(species_dummies)\n",
    "species = ['Bream', 'Parkki', 'Perch', 'Pike', 'Roach', 'Smelt', 'Whitefish']\n",
    "for key in X_train['Lengths'].keys():\n",
    "    for specy in species:\n",
    "        X_train[specy]=species_dummies[specy]\n",
    "model = LinearRegression()\n",
    "model.fit(X_train, y_train)\n",
    "#print(r2_score(y_test, model.predict(X_test)))"
   ]
  },
  {
   "cell_type": "code",
   "execution_count": null,
   "metadata": {},
   "outputs": [],
   "source": [
    "database = pd.read_csv('3database.csv')\n",
    "species_dummies = pd.get_dummies(database['Species'])\n",
    "species = ['Bream', 'Parkki', 'Perch', 'Pike', 'Roach', 'Smelt', 'Whitefish']\n",
    "for key in X_test['Lengths'].keys():\n",
    "    for specy in species:\n",
    "        X_test[specy]=species_dummies[specy]\n",
    "model = LinearRegression()\n",
    "model.fit(X_train, y_train)\n",
    "predicts = model.predict(X_test)\n",
    "for predict in predicts:\n",
    "    print(f'{predict}, ')"
   ]
  }
 ],
 "metadata": {
  "kernelspec": {
   "display_name": "Python 3",
   "language": "python",
   "name": "python3"
  },
  "language_info": {
   "codemirror_mode": {
    "name": "ipython",
    "version": 3
   },
   "file_extension": ".py",
   "mimetype": "text/x-python",
   "name": "python",
   "nbconvert_exporter": "python",
   "pygments_lexer": "ipython3",
   "version": "3.10.12"
  }
 },
 "nbformat": 4,
 "nbformat_minor": 2
}
