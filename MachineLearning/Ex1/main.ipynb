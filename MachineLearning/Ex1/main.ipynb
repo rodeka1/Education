{
 "cells": [
  {
   "cell_type": "code",
   "execution_count": null,
   "metadata": {},
   "outputs": [],
   "source": [
    "file = open(\"database.csv\")\n",
    "database = file.readlines()\n",
    "size = len(database)\n",
    "print(size)\n",
    "\n",
    "def sortCount(data):\n",
    "    return data[1]\n",
    "\n",
    "for i in range(size):\n",
    "    database[i]=database[i].replace('\\n','').split('\\t')\n",
    "    database[i][1]=int(database[i][1])\n",
    "\n",
    "database.sort(key=sortCount)\n"
   ]
  },
  {
   "cell_type": "code",
   "execution_count": null,
   "metadata": {},
   "outputs": [],
   "source": [
    "print(database[30-1][1], database[37-1][1], database[60-1][1])\n",
    "\n",
    "average = sum(data[1] for data in database)/size\n",
    "median=float()\n",
    "if(size%2==0):\n",
    "    median=(database[size//2][1]+database[size//2-1][1])/2\n",
    "else:\n",
    "    median=database[size//2-1][1]\n",
    "\n",
    "print(average, median)"
   ]
  }
 ],
 "metadata": {
  "kernelspec": {
   "display_name": "Python 3",
   "language": "python",
   "name": "python3"
  },
  "language_info": {
   "codemirror_mode": {
    "name": "ipython",
    "version": 3
   },
   "file_extension": ".py",
   "mimetype": "text/x-python",
   "name": "python",
   "nbconvert_exporter": "python",
   "pygments_lexer": "ipython3",
   "version": "3.10.12"
  }
 },
 "nbformat": 4,
 "nbformat_minor": 2
}
